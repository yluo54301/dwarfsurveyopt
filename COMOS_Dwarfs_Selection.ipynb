{
 "cells": [
  {
   "cell_type": "code",
   "execution_count": 1,
   "metadata": {
    "collapsed": true
   },
   "outputs": [],
   "source": [
    "import numpy as np\n",
    "import pandas as pd\n",
    "from astropy.table import Table, Column\n",
    "import matplotlib.pyplot as plt\n",
    "from matplotlib.colors import LogNorm\n",
    "from astropy.io import fits\n",
    "plt.rcParams['figure.figsize'] = [9, 6]\n",
    "plt.rcParams[\"font.family\"] = \"serif\"\n",
    "plt.rcParams['text.usetex'] = False\n",
    "%matplotlib inline"
   ]
  },
  {
   "cell_type": "code",
   "execution_count": 2,
   "metadata": {
    "collapsed": true
   },
   "outputs": [],
   "source": [
    "#read the catalog\n",
    "COSMOS2015 = fits.open('COSMOS2015_Laigle+_v1.1.fits')\n",
    "#print(COSMOS2015[1].data.names)"
   ]
  },
  {
   "cell_type": "code",
   "execution_count": 3,
   "metadata": {
    "collapsed": true
   },
   "outputs": [],
   "source": [
    "#makes the basic cuts\n",
    "mask_basic = (COSMOS2015[1].data['MASS_MED'] > 8) & (COSMOS2015[1].data['MASS_MED'] < 9)\n",
    "mask_basic *= COSMOS2015[1].data['TYPE'] == 0"
   ]
  },
  {
   "cell_type": "code",
   "execution_count": 14,
   "metadata": {},
   "outputs": [
    {
     "name": "stdout",
     "output_type": "stream",
     "text": [
      "3166\n",
      "308.8780487804878 galaxies\n"
     ]
    }
   ],
   "source": [
    "#sample 1\n",
    "mask_sample1 = mask_basic * (COSMOS2015[1].data['ZPDF'] > 0.05) & (COSMOS2015[1].data['ZPDF'] < 0.20)\n",
    "sample1 = COSMOS2015[1].data[mask_sample1]\n",
    "print(len(sample1))\n",
    "print(len(sample1)/1.64*0.16,'galaxies')"
   ]
  },
  {
   "cell_type": "code",
   "execution_count": 5,
   "metadata": {},
   "outputs": [
    {
     "data": {
      "image/png": "[encoded data removed]",
      "text/plain": [
       "<Figure size 432x288 with 1 Axes>"
      ]
     },
     "metadata": {},
     "output_type": "display_data"
    }
   ],
   "source": [
    "#plots the magnitude histogram and computes the number densities\n",
    "plt.hist(sample1['r_MAG_AUTO'],bins=500,histtype='step',linewidth=3)\n",
    "plt.xlim(18,27)\n",
    "plt.xlabel('r_mag_auto',fontsize=14)\n",
    "plt.ylabel('N',fontsize=14)\n",
    "plt.savefig('r_mag_auto_sample1.png',dpi=300)"
   ]
  },
  {
   "cell_type": "code",
   "execution_count": 15,
   "metadata": {},
   "outputs": [
    {
     "name": "stdout",
     "output_type": "stream",
     "text": [
      "659\n",
      "64.29268292682927 galaxies\n"
     ]
    }
   ],
   "source": [
    "#sample for IA709\n",
    "z_min_IA709 = (7073.6-315.5/2)/6564-1\n",
    "z_max_IA709 = (7073.6+315.5/2)/6564-1\n",
    "\n",
    "mask_IA709 = mask_basic * (COSMOS2015[1].data['ZPDF'] > z_min_IA709) & (COSMOS2015[1].data['ZPDF'] < z_max_IA709)\n",
    "sample_IA709 = COSMOS2015[1].data[mask_IA709]\n",
    "print(len(sample_IA709))\n",
    "print(len(sample_IA709)/1.64*0.16,'galaxies')"
   ]
  },
  {
   "cell_type": "code",
   "execution_count": 7,
   "metadata": {},
   "outputs": [
    {
     "data": {
      "image/png": "[encoded data removed]",
      "text/plain": [
       "<Figure size 432x288 with 1 Axes>"
      ]
     },
     "metadata": {},
     "output_type": "display_data"
    }
   ],
   "source": [
    "#plots the magnitude histogram and computes the number densities\n",
    "plt.hist(sample_IA709['r_MAG_AUTO'],bins=500,histtype='step',linewidth=3)\n",
    "plt.xlim(18,27)\n",
    "plt.xlabel('r_mag_auto',fontsize=14)\n",
    "plt.ylabel('N',fontsize=14)\n",
    "plt.savefig('r_mag_auto_IA709.png',dpi=300)"
   ]
  },
  {
   "cell_type": "code",
   "execution_count": 16,
   "metadata": {},
   "outputs": [
    {
     "name": "stdout",
     "output_type": "stream",
     "text": [
      "1119\n",
      "109.17073170731709 galaxies\n"
     ]
    }
   ],
   "source": [
    "#sample for IA738\n",
    "z_min_IA738 = (7361.6-323.5/2)/6564-1\n",
    "z_max_IA738 = (7361.6+323.5/2)/6564-1\n",
    "\n",
    "mask_IA738 = mask_basic * (COSMOS2015[1].data['ZPDF'] > z_min_IA738) & (COSMOS2015[1].data['ZPDF'] < z_max_IA738)\n",
    "sample_IA738 = COSMOS2015[1].data[mask_IA738]\n",
    "print(len(sample_IA738))\n",
    "print(len(sample_IA738)/1.64*0.16,'galaxies')"
   ]
  },
  {
   "cell_type": "code",
   "execution_count": 9,
   "metadata": {},
   "outputs": [
    {
     "data": {
      "image/png": "[encoded data removed]",
      "text/plain": [
       "<Figure size 432x288 with 1 Axes>"
      ]
     },
     "metadata": {},
     "output_type": "display_data"
    }
   ],
   "source": [
    "#plots the magnitude histogram and computes the number densities\n",
    "plt.hist(sample_IA738['r_MAG_AUTO'],bins=500,histtype='step',linewidth=3)\n",
    "plt.xlim(18,27)\n",
    "plt.xlabel('r_mag_auto',fontsize=14)\n",
    "plt.ylabel('N',fontsize=14)\n",
    "plt.savefig('r_mag_auto_IA738.png',dpi=300)"
   ]
  },
  {
   "cell_type": "code",
   "execution_count": null,
   "metadata": {
    "collapsed": true
   },
   "outputs": [],
   "source": []
  },
  {
   "cell_type": "code",
   "execution_count": null,
   "metadata": {
    "collapsed": true
   },
   "outputs": [],
   "source": []
  },
  {
   "cell_type": "code",
   "execution_count": null,
   "metadata": {
    "collapsed": true
   },
   "outputs": [],
   "source": []
  },
  {
   "cell_type": "code",
   "execution_count": null,
   "metadata": {
    "collapsed": true
   },
   "outputs": [],
   "source": []
  }
 ],
 "metadata": {
  "kernelspec": {
   "display_name": "Python 3",
   "language": "python",
   "name": "python3"
  },
  "language_info": {
   "codemirror_mode": {
    "name": "ipython",
    "version": 3
   },
   "file_extension": ".py",
   "mimetype": "text/x-python",
   "name": "python",
   "nbconvert_exporter": "python",
   "pygments_lexer": "ipython3",
   "version": "3.6.8"
  }
 },
 "nbformat": 4,
 "nbformat_minor": 2
}
