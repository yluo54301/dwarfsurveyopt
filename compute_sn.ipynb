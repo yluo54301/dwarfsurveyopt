{
 "cells": [
  {
   "cell_type": "markdown",
   "metadata": {},
   "source": [
    "A python function that computes the expected SN of a detection. Core function to be called in the monte carlo routine.\n",
    "\n",
    "STEPS OF THE CODE:\n",
    "\n",
    "1) compute the background level for a given exposure time. To get the code up and running for now. Just fix the background level here for now. I asked Kevin about computing the background in a given medium band filter. He did not think it would be too difficult. You compute the number of background photons given lw. Then assume poisson noise for the background. That gives the noise. There is one aspect to be careful here is that to make the postage stamp you want to know the number of background photons per pixel. Kevin can help us more here.\n",
    "\n",
    "2) compute the flux of the galaxy in this mediaum band (given by z=> central wavelength and by lw)\n",
    "\n",
    "3) generate a postage stamp for this galaxy, Make sure that the size of the galaxy scales with the redshift assumed Make a postage stamp that scales with the size of the galaxy (use 5 times the size of the galaxy?)\n",
    "\n",
    "4) We assume that we know the centroid of the galaxy (forced photometry) Compute aperture flux. Run SEP. question: what aperture to use here? Use one that is matched to the size of the galaxy?\n",
    "\n",
    "5) now we want to compute the error on the detected flux.\n",
    "\n",
    "6) compute the predicted flux in this medium band filter WITHOUT the emission line.\n",
    "\n",
    "7) Compute the SN (flux-broadbandflux)/sigma of the \"detection\" where \"detection\" is the fluz in 4) ABOVE the background level.\n",
    "\n",
    "7) return the SN of the detection (not of the detected flux, this is of the detected flux above he broadband level)\n",
    "\n",
    "NOTE: keep note that in the future, we should include the error on the broadband flux\n",
    "\n",
    "RETURNS : detected signal to noise of the emission line"
   ]
  },
  {
   "cell_type": "code",
   "execution_count": 1,
   "metadata": {
    "collapsed": true
   },
   "outputs": [],
   "source": [
    "import os\n",
    "import numpy as np\n",
    "from scipy.interpolate import interp1d\n",
    "\n",
    "import galsim\n",
    "import astropy\n",
    "import astropy.units as units\n",
    "import cosmology\n",
    "import sep\n",
    "import fitsio\n",
    "\n",
    "import matplotlib.pyplot as plt\n",
    "from matplotlib.colors import LogNorm\n",
    "plt.rcParams['figure.figsize'] = [9, 6]\n",
    "plt.rcParams[\"font.family\"] = \"serif\"\n",
    "plt.rcParams['text.usetex'] = False\n",
    "%matplotlib inline"
   ]
  },
  {
   "cell_type": "code",
   "execution_count": 23,
   "metadata": {
    "collapsed": true
   },
   "outputs": [],
   "source": [
    "#Here are the inputs\n",
    "#which filter to use (0 for nb, 1 for SDSS_r)\n",
    "filter_number = 0\n",
    "#redshift (central wavelength is computed from z)\n",
    "redshift = 0.15\n",
    "#filter center\n",
    "wave_cen = 6564*(1+redshift) #AA\n",
    "#filter width\n",
    "filter_width = 200 #AA\n",
    "#texp : exposure time\n",
    "exptime = 3600# sec\n",
    "#log stellar mass\n",
    "M_star = 8.5\n",
    "#size : galaxy size\n",
    "gal_r50 = 0.5 #arcsec\n",
    "#SED model number (0-3999)\n",
    "SED_model = 2000\n",
    "\n",
    "#telescope diameter in meter\n",
    "d_telescope = 8.2 #HSC\n",
    "#Collecting area of telescope in cm^2\n",
    "area = np.pi*(d_telescope/2*10**2)**2\n",
    "#pizelsize : fix for now to 0.18\"\n",
    "pixel_scale = 0.18 # arcsec/pixel\n",
    "#image size\n",
    "length = 64 #pixels\n",
    "#psf: which PSF to assume\n",
    "psf = 1 #PSF TYPE\n",
    "#set cosmology\n",
    "cosmo = cosmology.Cosmo(H0=70, omega_m = 0.3)\n",
    "dl = cosmo.Dl(0.0,redshift)*10**6 #distance luminosity in pc\n",
    "\n",
    "# Useful constants\n",
    "lsun = 3.846e33  # erg/s\n",
    "pc = 3.085677581467192e18  # in cm\n",
    "lightspeed = 2.998e18  # AA/s\n",
    "ckms = 2.998e5  # km/s\n",
    "jansky_mks = 1e-26\n",
    "jansky_cgs = 1e-23\n",
    "# value to go from L_sun/AA to erg/s/cm^2/AA at 10pc\n",
    "to_cgs_at_10pc = lsun / (4.0 * np.pi * (pc*10)**2)\n",
    "to_cgs_at_dl = lsun / (4.0 * np.pi * (pc*dl)**2)\n",
    "\n",
    "#option: which line to use (Halpha, OIII)\n",
    "#option: which profile to assume for dwarfs (e.g. exponential)"
   ]
  },
  {
   "cell_type": "code",
   "execution_count": 24,
   "metadata": {},
   "outputs": [
    {
     "name": "stdout",
     "output_type": "stream",
     "text": [
      "sky_level = 4.968898258715894\n",
      "sky_level_pixel = 0.16099230358239497\n",
      "sky_mag = 20.049632625248442\n",
      "gal_mag_em = 21.510736182203377\n",
      "gal_mag_ne = 21.766482001137973\n",
      "gal_mag_ne - gal_mag_em = 0.2557458189345958\n"
     ]
    }
   ],
   "source": [
    "def compute_sn(redshift, wave_cen, filter_width, exptime, M_star, gal_r50, SED_model):\n",
    "    \n",
    "    datapath = \"/Users/yifei/work/dwarf/computesn\"\n",
    "\n",
    "    # Initialize (pseudo-)random number generator\n",
    "    random_seed = 1234567\n",
    "    rng = galsim.BaseDeviate(random_seed)\n",
    "    \n",
    "    \n",
    "    # Generate the artificial narrowband filter (nb) with sigmoid damping\n",
    "    def _sigmoid(x):\n",
    "        return 1. / (1. + np.exp(-x))\n",
    "    peak_response=1.0\n",
    "    wave_margin=10\n",
    "    #if filter_width < 20:\n",
    "    #    raise Exception(\"The filter should be at least 20 Anstrom wide.\")\n",
    "    half_width = int(filter_width / 2) + wave_margin\n",
    "    wavelength = np.arange(half_width * 2) + wave_cen - half_width\n",
    "    half_window = np.arange(half_width) - wave_margin\n",
    "    response_curve = np.concatenate([_sigmoid(half_window), _sigmoid(half_window)[::-1]]) * peak_response\n",
    "    filter_func = interp1d(wavelength, response_curve, kind=3)\n",
    "    filter_nb = galsim.Bandpass(filter_func, wave_type='Ang',\n",
    "                                blue_limit=min(wavelength), red_limit=max(wavelength)).withZeropoint(zeropoint='AB')\n",
    "    \n",
    "    \n",
    "    # Read the broadband filters (here SDSS r-band)\n",
    "    filter_filename = os.path.join(datapath, 'share/bandpasses/SDSS_r.dat')\n",
    "    filter_r = galsim.Bandpass(filter_filename, wave_type='nm').withZeropoint(zeropoint='AB')\n",
    "    filter_r = filter_r.thin(rel_err=1e-4)\n",
    "    \n",
    "    \n",
    "    # Read in galaxy SEDs from fsps (with emission lines)\n",
    "    dwarf_seds = np.load('dwarf_sample_gaussian_test.npy')\n",
    "    dwarf_wave = dwarf_seds['wave'][SED_model]\n",
    "    dwarf_em = dwarf_seds['spec_em'][SED_model] #with emission lines\n",
    "    #convert spec_em (in Lsun/Ang) into erg/s/cm^2/Ang at dl\n",
    "    dwarf_em = dwarf_em*to_cgs_at_dl#*exptime\n",
    "    #spec_em is the spectra of a galaxy with stellar mass equal to dwarf_seds['mstar']\n",
    "    #here convert it into M_star\n",
    "    dwarf_em = dwarf_em/dwarf_seds['mstar'][SED_model]*10**M_star\n",
    "    sed_func_em = interp1d(dwarf_wave, dwarf_em, kind=3)\n",
    "    SED_dwarf_em = galsim.SED(sed_func_em, wave_type=units.AA, \n",
    "                           flux_type=units.erg/(units.s * units.cm**2)/units.AA)\n",
    "    \n",
    "    \n",
    "    # Read in galaxy SEDs from fsps (continumm only)\n",
    "    dwarf_ne = dwarf_seds['spec_ne'][SED_model] #continumm only\n",
    "    #convert spec_ne (in Lsun/Ang) into erg/s/cm^2/Ang at dl\n",
    "    dwarf_ne = dwarf_ne*to_cgs_at_dl#*exptime\n",
    "    #spec_ne is the spectra of a galaxy with stellar mass equal to dwarf_seds['mstar']\n",
    "    #here convert it into M_star\n",
    "    dwarf_ne = dwarf_ne/dwarf_seds['mstar'][SED_model]*10**M_star\n",
    "    sed_func_ne = interp1d(dwarf_wave, dwarf_ne, kind=3)\n",
    "    SED_dwarf_ne = galsim.SED(sed_func_ne, wave_type=units.AA, \n",
    "                           flux_type=units.erg/(units.s * units.cm**2)/units.AA)\n",
    "\n",
    "\n",
    "    \n",
    "    # Define the galaxy profile (here exponential)\n",
    "    mono_gal = galsim.Exponential(half_light_radius=gal_r50)\n",
    "    gal_SED_em = SED_dwarf_em.atRedshift(redshift)\n",
    "    gal_em = mono_gal * gal_SED_em\n",
    "    gal_SED_ne = SED_dwarf_ne.atRedshift(redshift)\n",
    "    gal_ne = mono_gal * gal_SED_ne\n",
    "\n",
    "    \n",
    "    # Read in the sky spectra\n",
    "    spec_sky = os.path.join(datapath, 'share/SEDs/spec-sky_eso.sed')\n",
    "    spec_sky = np.genfromtxt(spec_sky,names=('sky_wave','sky_flux'))\n",
    "    sky_wave = spec_sky['sky_wave']\n",
    "    sky_flux = spec_sky['sky_flux']\n",
    "    spec_sky_func = interp1d(sky_wave, sky_flux, kind=3)\n",
    "    SED_sky = galsim.SED(spec_sky_func, wave_type=units.nm, \n",
    "                           flux_type=units.astrophys.photon/(units.s * units.m**2)/units.nm)\n",
    "    \n",
    "    \n",
    "    # Convolve the PSF\n",
    "    PSF = galsim.Moffat(fwhm=0.6, beta=2.5)\n",
    "    galfinal_em = galsim.Convolve([gal_em, PSF])\n",
    "    galfinal_ne = galsim.Convolve([gal_ne, PSF])\n",
    "\n",
    "    \n",
    "    # Generate the image of the galaxy with emission lines\n",
    "    # Draw profile through the filters\n",
    "    img = galsim.ImageF(length, length, scale=pixel_scale)   \n",
    "    if filter_number == 1:\n",
    "        galfinal_em.drawImage(filter_r, image=img, area=area, exptime=exptime)\n",
    "    if filter_number == 0:\n",
    "        galfinal_em.drawImage(filter_nb, image=img, area=area, exptime=exptime)\n",
    "    #add sky noise\n",
    "    #sky level increases with exposure time\n",
    "    if filter_number == 1:\n",
    "        sky_level = SED_sky.calculateFlux(filter_r) * exptime #counts / arcsec^2\n",
    "    if filter_number == 0:\n",
    "        sky_level = SED_sky.calculateFlux(filter_nb) * exptime #counts / arcsec^2\n",
    "    sky_level_pixel = sky_level * pixel_scale**2\n",
    "    gain = 1. # e- / ADU\n",
    "    read_noise = 0.\n",
    "    noise = galsim.CCDNoise(rng, gain=gain, read_noise=read_noise, sky_level=sky_level_pixel)\n",
    "    #noise = galsim.PoissonNoise(rng, sky_level=sky_level_pixel)\n",
    "    img.addNoise(noise)\n",
    "    # Save the image\n",
    "    #Imageflux is photons/pixels\n",
    "    out_filename = os.path.join('/Users/yifei/work/dwarf/computesn', 'computesn_em.fits')\n",
    "    galsim.fits.write(img, out_filename)\n",
    "    \n",
    "    \n",
    "    # Generate the image of the galaxy with continumm only\n",
    "    # Draw profile through the filters\n",
    "    img = galsim.ImageF(length, length, scale=pixel_scale)   \n",
    "    if filter_number == 1:\n",
    "        galfinal_ne.drawImage(filter_r, image=img, area=area, exptime=exptime)\n",
    "    if filter_number == 0:\n",
    "        galfinal_ne.drawImage(filter_nb, image=img, area=area, exptime=exptime)\n",
    "    #add sky noise\n",
    "    #sky level increases with exposure time\n",
    "    if filter_number == 1:\n",
    "        sky_level = SED_sky.calculateFlux(filter_r) * exptime #counts / arcsec^2\n",
    "    if filter_number == 0:\n",
    "        sky_level = SED_sky.calculateFlux(filter_nb) * exptime #counts / arcsec^2\n",
    "    sky_level_pixel = sky_level * pixel_scale**2\n",
    "    gain = 1. # e- / ADU\n",
    "    read_noise = 0.\n",
    "    noise = galsim.CCDNoise(rng, gain=gain, read_noise=read_noise, sky_level=sky_level_pixel)\n",
    "    #noise = galsim.PoissonNoise(rng, sky_level=sky_level_pixel)\n",
    "    img.addNoise(noise)\n",
    "    # Save the image\n",
    "    #Imageflux is photons/pixels\n",
    "    out_filename = os.path.join('/Users/yifei/work/dwarf/computesn', 'computesn_ne.fits')\n",
    "    galsim.fits.write(img, out_filename)\n",
    "    \n",
    "    \n",
    "    # Return the useful numbers\n",
    "    if filter_number == 1:\n",
    "        #gal_level = gal_SED_ne.calculateFlux(filter_r)\n",
    "        sky_mag = SED_sky.calculateMagnitude(filter_r)\n",
    "        gal_mag_em = gal_SED_em.calculateMagnitude(filter_r)\n",
    "        gal_mag_ne = gal_SED_ne.calculateMagnitude(filter_r)\n",
    "    if filter_number == 0:\n",
    "        #gal_level = gal_SED_ne.calculateFlux(filter_nb)\n",
    "        sky_mag = SED_sky.calculateMagnitude(filter_nb)\n",
    "        gal_mag_em = gal_SED_em.calculateMagnitude(filter_nb)\n",
    "        gal_mag_ne = gal_SED_ne.calculateMagnitude(filter_nb)\n",
    "\n",
    "    return sky_level, sky_level_pixel, sky_mag, gal_mag_em, gal_mag_ne\n",
    "\n",
    "\n",
    "#run the main(argv) and get the useful numbers\n",
    "sky_level, sky_level_pixel, sky_mag, gal_mag_em, gal_mag_ne = compute_sn(redshift, wave_cen, filter_width, exptime, M_star, gal_r50, SED_model)\n",
    "\n",
    "print('sky_level =',sky_level)\n",
    "print('sky_level_pixel =',sky_level_pixel)\n",
    "print('sky_mag =',sky_mag)\n",
    "print('gal_mag_em =',gal_mag_em)\n",
    "print('gal_mag_ne =',gal_mag_ne)\n",
    "print('gal_mag_ne - gal_mag_em =',gal_mag_ne-gal_mag_em)"
   ]
  },
  {
   "cell_type": "code",
   "execution_count": 25,
   "metadata": {},
   "outputs": [
    {
     "name": "stdout",
     "output_type": "stream",
     "text": [
      "SNR_em = 818.9520387640792\n",
      "SNR_ne = 728.0195938394193\n",
      "flux_em = 670780.1112662127\n",
      "flux_ne = 530110.1947108844\n",
      "flux_ratio = 1.26535976474108\n",
      "delta_mag = 0.25553505217534156\n"
     ]
    },
    {
     "data": {
      "image/png": "[encoded data removed]",
      "text/plain": [
       "<Figure size 1008x360 with 4 Axes>"
      ]
     },
     "metadata": {},
     "output_type": "display_data"
    }
   ],
   "source": [
    "# show the image\n",
    "data_em = fitsio.read(\"computesn_em.fits\")\n",
    "data_ne = fitsio.read(\"computesn_ne.fits\")\n",
    "fig, (ax1, ax2) = plt.subplots(figsize=(14, 5), nrows=1, ncols=2)\n",
    "#ax1.imshow(data_em, interpolation='nearest', cmap='inferno',  origin='lower',norm=LogNorm())\n",
    "#ax1.set_title('With emission lines')\n",
    "#ax2.imshow(data_ne, interpolation='nearest', cmap='inferno',  origin='lower',norm=LogNorm())\n",
    "#ax2.set_title('Without emission lines')\n",
    "\n",
    "plt.subplot(1, 2, 1).set_title('with emission lines')\n",
    "plt.imshow(data_em-np.min(data_em)+0.01, interpolation='nearest', cmap='inferno', origin='lower', norm=LogNorm(),\n",
    "           vmin=0.5, vmax=np.max(data_em))\n",
    "plt.colorbar()\n",
    "plt.subplot(1, 2, 2).set_title('continumm only')\n",
    "plt.imshow(data_ne-np.min(data_em)+0.01, interpolation='nearest', cmap='inferno', origin='lower', norm=LogNorm(),\n",
    "           vmin=0.5, vmax=np.max(data_em))\n",
    "plt.colorbar()\n",
    "\n",
    "# Do the photometry\n",
    "skynoise = np.sqrt(sky_level_pixel)\n",
    "flux_em, fluxerr_em, flag_em = sep.sum_circle(data_em, length/2, length/2, gal_r50/pixel_scale*5,\n",
    "                                              err=skynoise, gain=1.0)\n",
    "SNR_em = flux_em/fluxerr_em\n",
    "\n",
    "skynoise = np.sqrt(sky_level_pixel)\n",
    "flux_ne, fluxerr_ne, flag_ne = sep.sum_circle(data_ne, length/2, length/2, gal_r50/pixel_scale*5,\n",
    "                                              err=skynoise, gain=1.0)\n",
    "SNR_ne = flux_ne/fluxerr_ne\n",
    "flux_ratio = flux_em/flux_ne\n",
    "delta_mag = 2.5*np.log10(flux_ratio)\n",
    "\n",
    "print('SNR_em =',SNR_em)\n",
    "print('SNR_ne =',SNR_ne)\n",
    "print('flux_em =',flux_em)\n",
    "print('flux_ne =',flux_ne)\n",
    "print('flux_ratio =', flux_ratio)\n",
    "print('delta_mag =', delta_mag)"
   ]
  },
  {
   "cell_type": "code",
   "execution_count": null,
   "metadata": {},
   "outputs": [],
   "source": []
  },
  {
   "cell_type": "code",
   "execution_count": null,
   "metadata": {},
   "outputs": [],
   "source": []
  },
  {
   "cell_type": "code",
   "execution_count": null,
   "metadata": {},
   "outputs": [],
   "source": []
  },
  {
   "cell_type": "code",
   "execution_count": null,
   "metadata": {},
   "outputs": [],
   "source": []
  },
  {
   "cell_type": "code",
   "execution_count": null,
   "metadata": {
    "collapsed": true
   },
   "outputs": [],
   "source": []
  },
  {
   "cell_type": "code",
   "execution_count": null,
   "metadata": {
    "collapsed": true
   },
   "outputs": [],
   "source": []
  },
  {
   "cell_type": "code",
   "execution_count": null,
   "metadata": {
    "collapsed": true
   },
   "outputs": [],
   "source": []
  },
  {
   "cell_type": "code",
   "execution_count": null,
   "metadata": {
    "collapsed": true
   },
   "outputs": [],
   "source": []
  },
  {
   "cell_type": "code",
   "execution_count": null,
   "metadata": {
    "collapsed": true
   },
   "outputs": [],
   "source": []
  },
  {
   "cell_type": "code",
   "execution_count": 6,
   "metadata": {
    "collapsed": true
   },
   "outputs": [],
   "source": [
    "dwarf_seds = np.load('dwarf_sample_gaussian_test.npy')\n",
    "dwarf_wave = dwarf_seds['wave'][SED_model]\n",
    "spec_ne = dwarf_seds['spec_ne'][SED_model]#*10**M_star*10**2/dl**2 #convert flux at 10pc to dl"
   ]
  },
  {
   "cell_type": "code",
   "execution_count": 7,
   "metadata": {},
   "outputs": [],
   "source": [
    "dwarf_seds = np.load('dwarf_sample_gaussian_test.npy')\n",
    "dwarf_wave = dwarf_seds['wave'][SED_model]\n",
    "dwarf_em = dwarf_seds['spec_em'][SED_model]#*10**M_star*10**2/dl**2 #convert flux at 10pc to dl\n",
    "#print(dwarf_seds.dtype.names)\n",
    "#print(dwarf_seds['Mag_r'])"
   ]
  },
  {
   "cell_type": "code",
   "execution_count": 8,
   "metadata": {},
   "outputs": [
    {
     "data": {
      "image/png": "[encoded data removed]",
      "text/plain": [
       "<Figure size 432x288 with 1 Axes>"
      ]
     },
     "metadata": {},
     "output_type": "display_data"
    }
   ],
   "source": [
    "plt.plot(dwarf_wave,spec_ne)\n",
    "#plt.plot(dwarf_wave,dwarf_em)\n",
    "#plt.plot(sky_wave,sky_flux)\n",
    "#plt.plot(x,sed_interp1d,'o')\n",
    "#plt.xlim(6540,6600)\n",
    "#plt.ylim(0,0.0012)\n",
    "plt.show()"
   ]
  },
  {
   "cell_type": "code",
   "execution_count": 9,
   "metadata": {},
   "outputs": [
    {
     "data": {
      "image/png": "[encoded data removed]",
      "text/plain": [
       "<Figure size 432x288 with 1 Axes>"
      ]
     },
     "metadata": {},
     "output_type": "display_data"
    }
   ],
   "source": [
    "plt.plot(dwarf_wave,dwarf_em)\n",
    "plt.xlim(6540,6600)\n",
    "#plt.ylim(0,0.0012)\n",
    "plt.show()"
   ]
  },
  {
   "cell_type": "code",
   "execution_count": null,
   "metadata": {},
   "outputs": [],
   "source": []
  },
  {
   "cell_type": "code",
   "execution_count": null,
   "metadata": {},
   "outputs": [],
   "source": []
  },
  {
   "cell_type": "code",
   "execution_count": null,
   "metadata": {},
   "outputs": [],
   "source": []
  },
  {
   "cell_type": "code",
   "execution_count": null,
   "metadata": {
    "collapsed": true
   },
   "outputs": [],
   "source": []
  }
 ],
 "metadata": {
  "kernelspec": {
   "display_name": "Python 3",
   "language": "python",
   "name": "python3"
  },
  "language_info": {
   "codemirror_mode": {
    "name": "ipython",
    "version": 3
   },
   "file_extension": ".py",
   "mimetype": "text/x-python",
   "name": "python",
   "nbconvert_exporter": "python",
   "pygments_lexer": "ipython3",
   "version": "3.6.6"
  }
 },
 "nbformat": 4,
 "nbformat_minor": 2
}
